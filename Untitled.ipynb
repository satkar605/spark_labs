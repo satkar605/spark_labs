{
 "cells": [
  {
   "cell_type": "code",
   "execution_count": null,
   "id": "aa8d4079",
   "metadata": {},
   "outputs": [],
   "source": [
    "#!pip install pytrends\n"
   ]
  },
  {
   "cell_type": "code",
   "execution_count": 9,
   "id": "aa428f8c",
   "metadata": {},
   "outputs": [
    {
     "ename": "TooManyRequestsError",
     "evalue": "The request failed: Google returned a response with code 429",
     "output_type": "error",
     "traceback": [
      "\u001b[0;31m---------------------------------------------------------------------------\u001b[0m",
      "\u001b[0;31mTooManyRequestsError\u001b[0m                      Traceback (most recent call last)",
      "Cell \u001b[0;32mIn[9], line 13\u001b[0m\n\u001b[1;32m     10\u001b[0m kw_list_lower \u001b[38;5;241m=\u001b[39m [kw\u001b[38;5;241m.\u001b[39mlower() \u001b[38;5;28;01mfor\u001b[39;00m kw \u001b[38;5;129;01min\u001b[39;00m kw_list]\n\u001b[1;32m     12\u001b[0m \u001b[38;5;66;03m# Build payload using original casing (Google Trends doesn't care about case)\u001b[39;00m\n\u001b[0;32m---> 13\u001b[0m pytrends\u001b[38;5;241m.\u001b[39mbuild_payload(kw_list, cat\u001b[38;5;241m=\u001b[39m\u001b[38;5;241m0\u001b[39m, timeframe\u001b[38;5;241m=\u001b[39m\u001b[38;5;124m'\u001b[39m\u001b[38;5;124mtoday 5-y\u001b[39m\u001b[38;5;124m'\u001b[39m, geo\u001b[38;5;241m=\u001b[39m\u001b[38;5;124m'\u001b[39m\u001b[38;5;124mNP\u001b[39m\u001b[38;5;124m'\u001b[39m, gprop\u001b[38;5;241m=\u001b[39m\u001b[38;5;124m'\u001b[39m\u001b[38;5;124m'\u001b[39m)\n\u001b[1;32m     15\u001b[0m \u001b[38;5;66;03m# Fetch interest over time\u001b[39;00m\n\u001b[1;32m     16\u001b[0m data \u001b[38;5;241m=\u001b[39m pytrends\u001b[38;5;241m.\u001b[39minterest_over_time()\n",
      "File \u001b[0;32m~/anaconda3/lib/python3.11/site-packages/pytrends/request.py:189\u001b[0m, in \u001b[0;36mTrendReq.build_payload\u001b[0;34m(self, kw_list, cat, timeframe, geo, gprop)\u001b[0m\n\u001b[1;32m    187\u001b[0m \u001b[38;5;28mself\u001b[39m\u001b[38;5;241m.\u001b[39mtoken_payload[\u001b[38;5;124m'\u001b[39m\u001b[38;5;124mreq\u001b[39m\u001b[38;5;124m'\u001b[39m] \u001b[38;5;241m=\u001b[39m json\u001b[38;5;241m.\u001b[39mdumps(\u001b[38;5;28mself\u001b[39m\u001b[38;5;241m.\u001b[39mtoken_payload[\u001b[38;5;124m'\u001b[39m\u001b[38;5;124mreq\u001b[39m\u001b[38;5;124m'\u001b[39m])\n\u001b[1;32m    188\u001b[0m \u001b[38;5;66;03m# get tokens\u001b[39;00m\n\u001b[0;32m--> 189\u001b[0m \u001b[38;5;28mself\u001b[39m\u001b[38;5;241m.\u001b[39m_tokens()\n\u001b[1;32m    190\u001b[0m \u001b[38;5;28;01mreturn\u001b[39;00m\n",
      "File \u001b[0;32m~/anaconda3/lib/python3.11/site-packages/pytrends/request.py:195\u001b[0m, in \u001b[0;36mTrendReq._tokens\u001b[0;34m(self)\u001b[0m\n\u001b[1;32m    193\u001b[0m \u001b[38;5;250m\u001b[39m\u001b[38;5;124;03m\"\"\"Makes request to Google to get API tokens for interest over time, interest by region and related queries\"\"\"\u001b[39;00m\n\u001b[1;32m    194\u001b[0m \u001b[38;5;66;03m# make the request and parse the returned json\u001b[39;00m\n\u001b[0;32m--> 195\u001b[0m widget_dicts \u001b[38;5;241m=\u001b[39m \u001b[38;5;28mself\u001b[39m\u001b[38;5;241m.\u001b[39m_get_data(\n\u001b[1;32m    196\u001b[0m     url\u001b[38;5;241m=\u001b[39mTrendReq\u001b[38;5;241m.\u001b[39mGENERAL_URL,\n\u001b[1;32m    197\u001b[0m     method\u001b[38;5;241m=\u001b[39mTrendReq\u001b[38;5;241m.\u001b[39mPOST_METHOD,\n\u001b[1;32m    198\u001b[0m     params\u001b[38;5;241m=\u001b[39m\u001b[38;5;28mself\u001b[39m\u001b[38;5;241m.\u001b[39mtoken_payload,\n\u001b[1;32m    199\u001b[0m     trim_chars\u001b[38;5;241m=\u001b[39m\u001b[38;5;241m4\u001b[39m,\n\u001b[1;32m    200\u001b[0m )[\u001b[38;5;124m'\u001b[39m\u001b[38;5;124mwidgets\u001b[39m\u001b[38;5;124m'\u001b[39m]\n\u001b[1;32m    201\u001b[0m \u001b[38;5;66;03m# order of the json matters...\u001b[39;00m\n\u001b[1;32m    202\u001b[0m first_region_token \u001b[38;5;241m=\u001b[39m \u001b[38;5;28;01mTrue\u001b[39;00m\n",
      "File \u001b[0;32m~/anaconda3/lib/python3.11/site-packages/pytrends/request.py:159\u001b[0m, in \u001b[0;36mTrendReq._get_data\u001b[0;34m(self, url, method, trim_chars, **kwargs)\u001b[0m\n\u001b[1;32m    157\u001b[0m \u001b[38;5;28;01melse\u001b[39;00m:\n\u001b[1;32m    158\u001b[0m     \u001b[38;5;28;01mif\u001b[39;00m response\u001b[38;5;241m.\u001b[39mstatus_code \u001b[38;5;241m==\u001b[39m status_codes\u001b[38;5;241m.\u001b[39mcodes\u001b[38;5;241m.\u001b[39mtoo_many_requests:\n\u001b[0;32m--> 159\u001b[0m         \u001b[38;5;28;01mraise\u001b[39;00m exceptions\u001b[38;5;241m.\u001b[39mTooManyRequestsError\u001b[38;5;241m.\u001b[39mfrom_response(response)\n\u001b[1;32m    160\u001b[0m     \u001b[38;5;28;01mraise\u001b[39;00m exceptions\u001b[38;5;241m.\u001b[39mResponseError\u001b[38;5;241m.\u001b[39mfrom_response(response)\n",
      "\u001b[0;31mTooManyRequestsError\u001b[0m: The request failed: Google returned a response with code 429"
     ]
    }
   ],
   "source": [
    "from pytrends.request import TrendReq\n",
    "import pandas as pd\n",
    "import matplotlib.pyplot as plt\n",
    "\n",
    "# Initialize\n",
    "pytrends = TrendReq(hl='en-US', tz=360)\n",
    "\n",
    "# Lowercase keyword labels for consistency\n",
    "kw_list = ['Yango', 'Pathao', 'Tootle', 'indrive', 'Rajesh Hamal']\n",
    "kw_list_lower = [kw.lower() for kw in kw_list]\n",
    "\n",
    "# Build payload using original casing (Google Trends doesn't care about case)\n",
    "pytrends.build_payload(kw_list, cat=0, timeframe='today 5-y', geo='NP', gprop='')\n",
    "\n",
    "# Fetch interest over time\n",
    "data = pytrends.interest_over_time()\n",
    "\n",
    "# Rename columns to lowercase for visual clarity\n",
    "data.columns = [col.lower() if col != 'isPartial' else col for col in data.columns]\n",
    "\n",
    "# Plot\n",
    "data.drop(columns='isPartial').plot(figsize=(12,6), title='Keyword Trends in Nepal (Last 5 Years)')\n",
    "plt.ylabel('Search Interest')\n",
    "plt.grid(True)\n",
    "plt.show()\n",
    "\n",
    "\n",
    "for kw_list in keyword_batches:\n",
    "    pytrends.build_payload(kw_list, ...)\n",
    "    df = pytrends.interest_over_time()\n",
    "    # Save or process\n",
    "    time.sleep(15)  # Slow down between batches\n"
   ]
  },
  {
   "cell_type": "markdown",
   "id": "308eaaa7",
   "metadata": {},
   "source": [
    "## 📈 SEO Keyword Trend Analysis: Ride-Hailing Apps in Nepal (2020–2025)\n",
    "\n",
    "This trend chart visualizes **Google search interest** over the past 5 years for high-intent keywords relevant to Nepal’s ride-hailing ecosystem. The keywords tracked include branded terms like `Yango`, `Pathao`, and `Tootle`, as well as generic queries such as `taxi` and `cab`.\n",
    "\n",
    "### 🔍 Key SEO Insights\n",
    "\n",
    "- **Pathao** reached its peak search popularity around **late 2020 to early 2021**, suggesting a strong brand presence or major marketing push during that period.\n",
    "- **Yango** shows a noticeable entry into the Nepali market starting in **mid-2025**, which aligns with recent app launch campaigns. This indicates rising interest but still lower brand awareness compared to incumbents.\n",
    "- **Tootle**, once a local pioneer, shows a **declining trend**, which could imply a drop in usage or brand relevance.\n",
    "- Generic keywords like **`taxi`** consistently outperform branded searches — an important signal for organic discoverability and content targeting.\n",
    "- **Search behavior favors functional keywords** (e.g., \"taxi app\", \"bike ride app\") over specific brands — content that blends both can perform well.\n",
    "\n",
    "### ✅ SEO Recommendations\n",
    "\n",
    "- Optimize content around **functional + brand combinations**: e.g., “Yango taxi app Nepal”, “cheap ride-sharing Pathao Kathmandu”.\n",
    "- Target long-tail variants such as “book cab online Kathmandu” or “ride app for girls Nepal” to capture niche intent.\n",
    "- Use these insights to plan **seasonal content**, influencer partnerships, or app store optimization (ASO) for upcoming peaks in search volume.\n",
    "\n",
    "_This analysis was powered by Google Trends via PyTrends and visualized using Python’s `matplotlib`._\n",
    "\n"
   ]
  },
  {
   "cell_type": "code",
   "execution_count": 4,
   "id": "ed855ce8",
   "metadata": {},
   "outputs": [
    {
     "ename": "NameError",
     "evalue": "name 'keyword_batches' is not defined",
     "output_type": "error",
     "traceback": [
      "\u001b[0;31m---------------------------------------------------------------------------\u001b[0m",
      "\u001b[0;31mNameError\u001b[0m                                 Traceback (most recent call last)",
      "Cell \u001b[0;32mIn[4], line 1\u001b[0m\n\u001b[0;32m----> 1\u001b[0m \u001b[38;5;28;01mfor\u001b[39;00m kw_list \u001b[38;5;129;01min\u001b[39;00m keyword_batches:\n\u001b[1;32m      2\u001b[0m     pytrends\u001b[38;5;241m.\u001b[39mbuild_payload(kw_list, \u001b[38;5;241m.\u001b[39m\u001b[38;5;241m.\u001b[39m\u001b[38;5;241m.\u001b[39m)\n\u001b[1;32m      3\u001b[0m     df \u001b[38;5;241m=\u001b[39m pytrends\u001b[38;5;241m.\u001b[39minterest_over_time()\n",
      "\u001b[0;31mNameError\u001b[0m: name 'keyword_batches' is not defined"
     ]
    }
   ],
   "source": []
  }
 ],
 "metadata": {
  "kernelspec": {
   "display_name": "Python 3 (ipykernel)",
   "language": "python",
   "name": "python3"
  },
  "language_info": {
   "codemirror_mode": {
    "name": "ipython",
    "version": 3
   },
   "file_extension": ".py",
   "mimetype": "text/x-python",
   "name": "python",
   "nbconvert_exporter": "python",
   "pygments_lexer": "ipython3",
   "version": "3.11.5"
  }
 },
 "nbformat": 4,
 "nbformat_minor": 5
}
